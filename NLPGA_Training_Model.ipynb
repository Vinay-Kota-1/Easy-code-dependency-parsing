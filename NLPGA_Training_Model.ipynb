{
  "cells": [
    {
      "cell_type": "code",
      "execution_count": 7,
      "metadata": {
        "colab": {
          "base_uri": "https://localhost:8080/"
        },
        "id": "9KFJzwsh0D4P",
        "outputId": "fcafd448-4f60-423e-cf44-ad7f2d80a15f"
      },
      "outputs": [
        {
          "output_type": "stream",
          "name": "stdout",
          "text": [
            "Looking in indexes: https://pypi.org/simple, https://us-python.pkg.dev/colab-wheels/public/simple/\n",
            "Requirement already satisfied: conllu in /usr/local/lib/python3.8/dist-packages (4.5.2)\n"
          ]
        }
      ],
      "source": [
        "pip install conllu"
      ],
      "id": "9KFJzwsh0D4P"
    },
    {
      "cell_type": "code",
      "execution_count": 8,
      "metadata": {
        "id": "7b3e0935"
      },
      "outputs": [],
      "source": [
        "import conllu\n",
        "from collections import Counter\n",
        "import copy\n",
        "import numpy as np"
      ],
      "id": "7b3e0935"
    },
    {
      "cell_type": "code",
      "execution_count": 9,
      "metadata": {
        "colab": {
          "base_uri": "https://localhost:8080/"
        },
        "id": "HcSakigj0KBu",
        "outputId": "ef25964e-23bb-4e19-a7d0-34f919f71539"
      },
      "outputs": [
        {
          "output_type": "stream",
          "name": "stdout",
          "text": [
            "--2022-12-06 02:47:08--  https://www.csee.umbc.edu/courses/undergraduate/473/f22/materials/a1/data/UD_English-EWT/en_ewt-ud-train.conllu\n",
            "Resolving www.csee.umbc.edu (www.csee.umbc.edu)... 23.185.0.4, 2620:12a:8001::4, 2620:12a:8000::4\n",
            "Connecting to www.csee.umbc.edu (www.csee.umbc.edu)|23.185.0.4|:443... connected.\n",
            "HTTP request sent, awaiting response... 302 Found\n",
            "Location: https://redirect.cs.umbc.edu/courses/undergraduate/473/f22/materials/a1/data/UD_English-EWT/en_ewt-ud-train.conllu [following]\n",
            "--2022-12-06 02:47:08--  https://redirect.cs.umbc.edu/courses/undergraduate/473/f22/materials/a1/data/UD_English-EWT/en_ewt-ud-train.conllu\n",
            "Resolving redirect.cs.umbc.edu (redirect.cs.umbc.edu)... 130.85.36.80\n",
            "Connecting to redirect.cs.umbc.edu (redirect.cs.umbc.edu)|130.85.36.80|:443... connected.\n",
            "HTTP request sent, awaiting response... 200 OK\n",
            "Length: 13301116 (13M) [text/plain]\n",
            "Saving to: ‘en_ewt-ud-train.conllu.1’\n",
            "\n",
            "en_ewt-ud-train.con 100%[===================>]  12.68M  6.49MB/s    in 2.0s    \n",
            "\n",
            "2022-12-06 02:47:11 (6.49 MB/s) - ‘en_ewt-ud-train.conllu.1’ saved [13301116/13301116]\n",
            "\n"
          ]
        }
      ],
      "source": [
        "!wget \"https://www.csee.umbc.edu/courses/undergraduate/473/f22/materials/a1/data/UD_English-EWT/en_ewt-ud-train.conllu\"\n"
      ],
      "id": "HcSakigj0KBu"
    },
    {
      "cell_type": "code",
      "execution_count": 10,
      "metadata": {
        "id": "HvfURULf0SSW"
      },
      "outputs": [],
      "source": [
        "with open('en_ewt-ud-train.conllu','r') as s:\n",
        "  training_data = [a for a in conllu.parse_incr(s)]"
      ],
      "id": "HvfURULf0SSW"
    },
    {
      "cell_type": "code",
      "execution_count": 11,
      "metadata": {
        "colab": {
          "base_uri": "https://localhost:8080/",
          "height": 215
        },
        "id": "d10aa52e",
        "outputId": "aafc790c-1943-4bb3-bf22-6c5d7afff9c5"
      },
      "outputs": [
        {
          "output_type": "error",
          "ename": "FileNotFoundError",
          "evalue": "ignored",
          "traceback": [
            "\u001b[0;31m---------------------------------------------------------------------------\u001b[0m",
            "\u001b[0;31mFileNotFoundError\u001b[0m                         Traceback (most recent call last)",
            "\u001b[0;32m<ipython-input-11-61b0e2b7295f>\u001b[0m in \u001b[0;36m<module>\u001b[0;34m\u001b[0m\n\u001b[0;32m----> 1\u001b[0;31m \u001b[0;32mwith\u001b[0m \u001b[0mopen\u001b[0m\u001b[0;34m(\u001b[0m\u001b[0;34m'/Users/vinaykota/Documents/NLP assessment/UD_English-EWT/en_ewt-ud-train.conllu'\u001b[0m\u001b[0;34m,\u001b[0m\u001b[0;34m'r'\u001b[0m\u001b[0;34m)\u001b[0m \u001b[0;32mas\u001b[0m \u001b[0mTrain\u001b[0m\u001b[0;34m:\u001b[0m\u001b[0;34m\u001b[0m\u001b[0;34m\u001b[0m\u001b[0m\n\u001b[0m\u001b[1;32m      2\u001b[0m     \u001b[0mtraining_data\u001b[0m \u001b[0;34m=\u001b[0m \u001b[0;34m[\u001b[0m\u001b[0ma\u001b[0m \u001b[0;32mfor\u001b[0m \u001b[0ma\u001b[0m \u001b[0;32min\u001b[0m \u001b[0mconllu\u001b[0m\u001b[0;34m.\u001b[0m\u001b[0mparse_incr\u001b[0m\u001b[0;34m(\u001b[0m\u001b[0mTrain\u001b[0m\u001b[0;34m)\u001b[0m\u001b[0;34m]\u001b[0m\u001b[0;34m\u001b[0m\u001b[0;34m\u001b[0m\u001b[0m\n",
            "\u001b[0;31mFileNotFoundError\u001b[0m: [Errno 2] No such file or directory: '/Users/vinaykota/Documents/NLP assessment/UD_English-EWT/en_ewt-ud-train.conllu'"
          ]
        }
      ],
      "source": [
        "# with open('/Users/vinaykota/Documents/NLP assessment/UD_English-EWT/en_ewt-ud-train.conllu','r') as Train:\n",
        "#     training_data = [a for a in conllu.parse_incr(Train)]"
      ],
      "id": "d10aa52e"
    },
    {
      "cell_type": "code",
      "execution_count": 59,
      "metadata": {
        "id": "86a3721a",
        "colab": {
          "base_uri": "https://localhost:8080/",
          "height": 232
        },
        "outputId": "5e7f701b-3fd1-4f34-e193-3eb32adba492"
      },
      "outputs": [
        {
          "output_type": "error",
          "ename": "TypeError",
          "evalue": "ignored",
          "traceback": [
            "\u001b[0;31m---------------------------------------------------------------------------\u001b[0m",
            "\u001b[0;31mTypeError\u001b[0m                                 Traceback (most recent call last)",
            "\u001b[0;32m<ipython-input-59-0339ecf1037f>\u001b[0m in \u001b[0;36m<module>\u001b[0;34m\u001b[0m\n\u001b[1;32m     17\u001b[0m             \u001b[0mdeprel\u001b[0m\u001b[0;34m.\u001b[0m\u001b[0mappend\u001b[0m\u001b[0;34m(\u001b[0m\u001b[0mtraining_data\u001b[0m\u001b[0;34m[\u001b[0m\u001b[0mi\u001b[0m\u001b[0;34m]\u001b[0m\u001b[0;34m[\u001b[0m\u001b[0mj\u001b[0m\u001b[0;34m]\u001b[0m\u001b[0;34m[\u001b[0m\u001b[0;34m'deprel'\u001b[0m\u001b[0;34m]\u001b[0m\u001b[0;34m)\u001b[0m\u001b[0;34m\u001b[0m\u001b[0;34m\u001b[0m\u001b[0m\n\u001b[1;32m     18\u001b[0m \u001b[0;34m\u001b[0m\u001b[0m\n\u001b[0;32m---> 19\u001b[0;31m         \u001b[0mdeprels\u001b[0m\u001b[0;34m[\u001b[0m\u001b[0miden\u001b[0m\u001b[0;34m]\u001b[0m \u001b[0;34m=\u001b[0m \u001b[0mdeprel\u001b[0m\u001b[0;34m\u001b[0m\u001b[0;34m\u001b[0m\u001b[0m\n\u001b[0m\u001b[1;32m     20\u001b[0m \u001b[0;34m\u001b[0m\u001b[0m\n\u001b[1;32m     21\u001b[0m \u001b[0;34m\u001b[0m\u001b[0m\n",
            "\u001b[0;31mTypeError\u001b[0m: unhashable type: 'list'"
          ]
        }
      ],
      "source": [
        "iden = []\n",
        "word = []\n",
        "pos = []\n",
        "head = []\n",
        "deprel = []\n",
        "\n",
        "\n",
        "for i in range(len(training_data)):\n",
        "        for j in range(len(training_data[i])):\n",
        "            iden.append(str(training_data[i][j]['id']))\n",
        "            word.append(training_data[i][j]['form'])\n",
        "            pos.append(training_data[i][j]['upos'])\n",
        "            head.append(str(training_data[i][j]['head']))\n",
        "            deprel.append(training_data[i][j]['deprel'])         \n",
        "            \n",
        "            \n",
        "            "
      ],
      "id": "86a3721a"
    },
    {
      "cell_type": "code",
      "execution_count": 13,
      "metadata": {
        "id": "1ae6b1fb"
      },
      "outputs": [],
      "source": [
        "class struct(object):\n",
        "    \n",
        "    def __init__(self, training_sentence):\n",
        "        self.iden = []\n",
        "        self.word = []\n",
        "        self.pos = []\n",
        "        self.head = []\n",
        "        self.deprel = []\n",
        "        self.training_sentence = training_sentence\n",
        "        \n",
        "    def seperation(self):\n",
        "        for i in range(len(self.training_sentence)):\n",
        "            self.iden.append(self.training_sentence[i]['id'])\n",
        "            self.word.append(self.training_sentence[i]['form'])\n",
        "            self.pos.append(self.training_sentence[i]['upos'])\n",
        "            self.head.append(self.training_sentence[i]['head'])\n",
        "            self.deprel.append(self.training_sentence[i]['deprel'])\n",
        "        \n",
        "    "
      ],
      "id": "1ae6b1fb"
    },
    {
      "cell_type": "code",
      "execution_count": 14,
      "metadata": {
        "id": "64e35d99"
      },
      "outputs": [],
      "source": [
        "x=[]\n",
        "for i in training_data:\n",
        "    x.append(i)\n",
        "    "
      ],
      "id": "64e35d99"
    },
    {
      "cell_type": "code",
      "execution_count": 15,
      "metadata": {
        "id": "15201624"
      },
      "outputs": [],
      "source": [
        "for i in training_data:\n",
        "        a = i\n",
        "        break\n",
        "    "
      ],
      "id": "15201624"
    },
    {
      "cell_type": "code",
      "execution_count": 16,
      "metadata": {
        "id": "c46d5c59"
      },
      "outputs": [],
      "source": [
        "with open('Modified_conllu.txt','w') as m:\n",
        "    for a,b,c,d,e in zip(iden,word,pos,head,deprel):\n",
        "        m.write(f'{a} {b} {c} {d} {e}\\n')"
      ],
      "id": "c46d5c59"
    },
    {
      "cell_type": "code",
      "execution_count": 17,
      "metadata": {
        "id": "a5e0de6e"
      },
      "outputs": [],
      "source": [
        "with open('Modified_conllu.txt','r') as m:\n",
        "    lines = m.readlines()"
      ],
      "id": "a5e0de6e"
    },
    {
      "cell_type": "code",
      "execution_count": 18,
      "metadata": {
        "id": "4f0bb082"
      },
      "outputs": [],
      "source": [
        "unique_words = set(word.lower() for word in word)\n",
        "unique_pos = set(pos)\n",
        "unique_words = ['UNK','ROOT','NULL']+list(unique_words)\n",
        "pos_tags = ['UNK','ROOT','NULL']+list(unique_pos)\n",
        "        "
      ],
      "id": "4f0bb082"
    },
    {
      "cell_type": "code",
      "execution_count": 19,
      "metadata": {
        "id": "a0a4988e"
      },
      "outputs": [],
      "source": [
        "word_dict = {}\n",
        "for i,j in enumerate(unique_words):\n",
        "    word_dict[j] = i\n",
        "    "
      ],
      "id": "a0a4988e"
    },
    {
      "cell_type": "code",
      "execution_count": 20,
      "metadata": {
        "id": "ff54fa64"
      },
      "outputs": [],
      "source": [
        "pos_dict = {}\n",
        "for i,j in enumerate(pos_tags):\n",
        "    pos_dict[j] = i"
      ],
      "id": "ff54fa64"
    },
    {
      "cell_type": "code",
      "execution_count": 21,
      "metadata": {
        "id": "c304d5aa"
      },
      "outputs": [],
      "source": [
        "unique_dependency = set(deprel)\n",
        "dependencies = {}\n",
        "for i,j in enumerate(unique_dependency):\n",
        "    dependencies[j] = i"
      ],
      "id": "c304d5aa"
    },
    {
      "cell_type": "code",
      "execution_count": 22,
      "metadata": {
        "id": "e784156f"
      },
      "outputs": [],
      "source": [
        "labels = []\n",
        "\n",
        "labels.append((\"shift\",None))\n",
        "\n",
        "for i in unique_dependency:\n",
        "    labels.append((\"L\",i))\n",
        "    labels.append((\"R\",i))\n",
        "\n",
        "\n",
        "# dict((label,index) for (index,label) in enumerate(labels))"
      ],
      "id": "e784156f"
    },
    {
      "cell_type": "code",
      "execution_count": 23,
      "metadata": {
        "id": "aec1311a"
      },
      "outputs": [],
      "source": [
        "output_representations = {}\n",
        "for i, label in enumerate(labels):\n",
        "    output_representations[label]= i"
      ],
      "id": "aec1311a"
    },
    {
      "cell_type": "code",
      "execution_count": 101,
      "metadata": {
        "id": "8f780ecb",
        "colab": {
          "base_uri": "https://localhost:8080/"
        },
        "outputId": "bda2f85d-f3ec-4e09-a6e0-73f83e6aa374"
      },
      "outputs": [
        {
          "output_type": "execute_result",
          "data": {
            "text/plain": [
              "{('shift', None): 0,\n",
              " ('L', 'obl:tmod'): 1,\n",
              " ('R', 'obl:tmod'): 2,\n",
              " ('L', 'nmod'): 3,\n",
              " ('R', 'nmod'): 4,\n",
              " ('L', 'aux:pass'): 5,\n",
              " ('R', 'aux:pass'): 6,\n",
              " ('L', 'nmod:npmod'): 7,\n",
              " ('R', 'nmod:npmod'): 8,\n",
              " ('L', '_'): 9,\n",
              " ('R', '_'): 10,\n",
              " ('L', 'acl'): 11,\n",
              " ('R', 'acl'): 12,\n",
              " ('L', 'dislocated'): 13,\n",
              " ('R', 'dislocated'): 14,\n",
              " ('L', 'advcl'): 15,\n",
              " ('R', 'advcl'): 16,\n",
              " ('L', 'cop'): 17,\n",
              " ('R', 'cop'): 18,\n",
              " ('L', 'det:predet'): 19,\n",
              " ('R', 'det:predet'): 20,\n",
              " ('L', 'appos'): 21,\n",
              " ('R', 'appos'): 22,\n",
              " ('L', 'obl:npmod'): 23,\n",
              " ('R', 'obl:npmod'): 24,\n",
              " ('L', 'obj'): 25,\n",
              " ('R', 'obj'): 26,\n",
              " ('L', 'nmod:tmod'): 27,\n",
              " ('R', 'nmod:tmod'): 28,\n",
              " ('L', 'det'): 29,\n",
              " ('R', 'det'): 30,\n",
              " ('L', 'amod'): 31,\n",
              " ('R', 'amod'): 32,\n",
              " ('L', 'list'): 33,\n",
              " ('R', 'list'): 34,\n",
              " ('L', 'mark'): 35,\n",
              " ('R', 'mark'): 36,\n",
              " ('L', 'root'): 37,\n",
              " ('R', 'root'): 38,\n",
              " ('L', 'discourse'): 39,\n",
              " ('R', 'discourse'): 40,\n",
              " ('L', 'cc:preconj'): 41,\n",
              " ('R', 'cc:preconj'): 42,\n",
              " ('L', 'goeswith'): 43,\n",
              " ('R', 'goeswith'): 44,\n",
              " ('L', 'iobj'): 45,\n",
              " ('R', 'iobj'): 46,\n",
              " ('L', 'dep'): 47,\n",
              " ('R', 'dep'): 48,\n",
              " ('L', 'nmod:poss'): 49,\n",
              " ('R', 'nmod:poss'): 50,\n",
              " ('L', 'orphan'): 51,\n",
              " ('R', 'orphan'): 52,\n",
              " ('L', 'compound'): 53,\n",
              " ('R', 'compound'): 54,\n",
              " ('L', 'nsubj'): 55,\n",
              " ('R', 'nsubj'): 56,\n",
              " ('L', 'case'): 57,\n",
              " ('R', 'case'): 58,\n",
              " ('L', 'nsubj:pass'): 59,\n",
              " ('R', 'nsubj:pass'): 60,\n",
              " ('L', 'reparandum'): 61,\n",
              " ('R', 'reparandum'): 62,\n",
              " ('L', 'obl'): 63,\n",
              " ('R', 'obl'): 64,\n",
              " ('L', 'nummod'): 65,\n",
              " ('R', 'nummod'): 66,\n",
              " ('L', 'cc'): 67,\n",
              " ('R', 'cc'): 68,\n",
              " ('L', 'conj'): 69,\n",
              " ('R', 'conj'): 70,\n",
              " ('L', 'flat'): 71,\n",
              " ('R', 'flat'): 72,\n",
              " ('L', 'csubj'): 73,\n",
              " ('R', 'csubj'): 74,\n",
              " ('L', 'flat:foreign'): 75,\n",
              " ('R', 'flat:foreign'): 76,\n",
              " ('L', 'xcomp'): 77,\n",
              " ('R', 'xcomp'): 78,\n",
              " ('L', 'acl:relcl'): 79,\n",
              " ('R', 'acl:relcl'): 80,\n",
              " ('L', 'csubj:pass'): 81,\n",
              " ('R', 'csubj:pass'): 82,\n",
              " ('L', 'vocative'): 83,\n",
              " ('R', 'vocative'): 84,\n",
              " ('L', 'compound:prt'): 85,\n",
              " ('R', 'compound:prt'): 86,\n",
              " ('L', 'punct'): 87,\n",
              " ('R', 'punct'): 88,\n",
              " ('L', 'aux'): 89,\n",
              " ('R', 'aux'): 90,\n",
              " ('L', 'ccomp'): 91,\n",
              " ('R', 'ccomp'): 92,\n",
              " ('L', 'advmod'): 93,\n",
              " ('R', 'advmod'): 94,\n",
              " ('L', 'expl'): 95,\n",
              " ('R', 'expl'): 96,\n",
              " ('L', 'fixed'): 97,\n",
              " ('R', 'fixed'): 98,\n",
              " ('L', 'parataxis'): 99,\n",
              " ('R', 'parataxis'): 100}"
            ]
          },
          "metadata": {},
          "execution_count": 101
        }
      ],
      "source": [
        "output_representations"
      ],
      "id": "8f780ecb"
    },
    {
      "cell_type": "code",
      "execution_count": 65,
      "metadata": {
        "id": "fa702132"
      },
      "outputs": [],
      "source": [
        "class State:\n",
        "    \n",
        "    def __init__(self, sentence=[]):\n",
        "        self.stack = []\n",
        "        self.buffer = sentence[::-1]\n",
        "        self.dep = set()\n",
        "        \n",
        "    def shift(self): self.stack.append(self.buffer.pop())\n",
        "        \n",
        "    def left_arc(self,label): self.dep.add((self.buffer[-1],self.stack.pop(),label)) \n",
        "    \n",
        "    def right_arc(self, label):\n",
        "        top = self.stack.pop()\n",
        "        buffer_last = self.buffer.pop()\n",
        "        self.dep.add((top,buffer_last,label))\n",
        "        self.buffer.append(top)"
      ],
      "id": "fa702132"
    },
    {
      "cell_type": "code",
      "execution_count": 36,
      "metadata": {
        "id": "fbededc1"
      },
      "outputs": [],
      "source": [
        "def oracle(sequence,sentence):\n",
        "    state = State(sentence)\n",
        "    for operation, label in sequence:\n",
        "        if operation == 'shift': state.shift()\n",
        "        elif operation == 'L': state.left_arc(label)\n",
        "        elif operation == 'R': state.right_arc(label)\n",
        "        else: print(\"Error\")\n",
        "            \n",
        "    return state.dep"
      ],
      "id": "fbededc1"
    },
    {
      "cell_type": "code",
      "source": [
        "sequences = [('shift', 'obj'),('shift','nmod'),('R','nmod'),('shift','nmod'),('R','set'),('L','kik')]\n",
        "sentences = [\"The\",\"book\",\"is\",\"one\"]\n",
        "\n",
        "deps = oracle(s, l)"
      ],
      "metadata": {
        "id": "zhwuOr5tdVTX"
      },
      "id": "zhwuOr5tdVTX",
      "execution_count": 57,
      "outputs": []
    },
    {
      "cell_type": "code",
      "source": [
        "# # s=[]\n",
        "# # for i,j in seq[0]:\n",
        "# #   s.append(j)\n",
        "# l=['Al', '-', 'Zaman', ':', 'American', 'forces', 'killed', 'Shaikh', 'Abdullah', 'al', '-', 'Ani', ',', 'the', 'preacher', 'at', 'the', 'mosque', 'in', 'the', 'town', 'of', 'Qaim', ',', 'near', 'the', 'Syrian', 'border', '.']\n",
        "\n",
        "deps"
      ],
      "metadata": {
        "colab": {
          "base_uri": "https://localhost:8080/"
        },
        "id": "dayHOIwLeXBo",
        "outputId": "539ef2f9-1c8e-40fc-c166-d0808ab674ab"
      },
      "id": "dayHOIwLeXBo",
      "execution_count": 58,
      "outputs": [
        {
          "output_type": "execute_result",
          "data": {
            "text/plain": [
              "{('Al', '-', 'punct'),\n",
              " ('Al', ':', 'punct'),\n",
              " ('Al', 'Zaman', 'flat'),\n",
              " ('Qaim', 'of', 'case'),\n",
              " ('Shaikh', 'Abdullah', 'flat'),\n",
              " ('Shaikh', 'al', 'flat'),\n",
              " ('border', 'Syrian', 'amod'),\n",
              " ('forces', 'American', 'amod'),\n",
              " ('killed', 'forces', 'nsubj'),\n",
              " ('preacher', 'the', 'det'),\n",
              " ('town', 'Qaim', 'nmod')}"
            ]
          },
          "metadata": {},
          "execution_count": 58
        }
      ]
    },
    {
      "cell_type": "code",
      "execution_count": 92,
      "metadata": {
        "id": "8a00dc71"
      },
      "outputs": [],
      "source": [
        "def select_2_features(state,word_dict, pos_dict):\n",
        "    \n",
        "    stack_length = len(state.stack)\n",
        "    buffer_length = len(state.buffer)\n",
        "    feat = []\n",
        "\n",
        "\n",
        "    i = -1\n",
        "    while stack_length > 0:\n",
        "        if i <= -3: break\n",
        "        word = state.stack[i]\n",
        "        # print(word)\n",
        "        \n",
        "        if word in word_dict.keys(): feat.append(word_dict[word])\n",
        "        # elif word in pos_dict.keys(): feat.append(pos_dict[word])\n",
        "        elif word.lower() not in word_dict.keys(): feat.append(word_dict['UNK'])\n",
        "        # elif word.lower() is None: feat.append(word_dict['ROOT'])\n",
        "        # elif word.lower() not in pos_dict.keys(): feat.append(pos_dict['UNK'])\n",
        "        else: feat.append(word_dict[word.lower()])\n",
        "            \n",
        "        stack_length =stack_length-1\n",
        "        i = i-1\n",
        "\n",
        "    while i>=-2:\n",
        "        feat.append(word_dict['NULL'])\n",
        "        i = i-1\n",
        "        \n",
        "    i= -1\n",
        "    while buffer_length> 0:\n",
        "        \n",
        "        if i <= -3: break\n",
        "            \n",
        "        word = state.buffer[i]\n",
        "\n",
        "        if word in word_dict.keys(): feat.append(word_dict[word])\n",
        "        # elif word in pos_dict.keys(): feat.append(pos_dict[word])        \n",
        "        elif word.lower() not in word_dict.keys(): feat.append(word_dict['UNK'])\n",
        "        # elif word.lower() is None: feat.append(word_dict['ROOT'])\n",
        "        # elif word.lower() not in pos_dict.keys(): feat.append(pos_dict['UNK'])\n",
        "        else: feat.append(word_dict[word.lower()])\n",
        "            \n",
        "        buffer_length = buffer_length-1\n",
        "        i = i-1\n",
        "\n",
        "    while i>=-2:\n",
        "        feat.append(word_dict['NULL'])\n",
        "        i = i-1\n",
        "    \n",
        "    return np.array(feat)\n",
        "        \n",
        "        \n",
        "    \n",
        "        \n",
        "    "
      ],
      "id": "8a00dc71"
    },
    {
      "cell_type": "code",
      "execution_count": 28,
      "metadata": {
        "id": "Zd6GZU--Lb_-"
      },
      "outputs": [],
      "source": [
        "class root():\n",
        "  def __init__(self):\n",
        "    self.head=None\n",
        "    self.iden=0\n",
        "    self.deprel=None"
      ],
      "id": "Zd6GZU--Lb_-"
    },
    {
      "cell_type": "code",
      "execution_count": 93,
      "metadata": {
        "id": "5f1878ca"
      },
      "outputs": [],
      "source": [
        "seq = []\n",
        "ins = []\n",
        "ious = []\n",
        "instn = []\n",
        "for i in x:\n",
        "    s = struct(i)\n",
        "    s.seperation()\n",
        "    \n",
        "    sequence = []\n",
        "    state = State(s.word)\n",
        "\n",
        "    # print(state.buffer)\n",
        "    \n",
        "    childrens = Counter(s.head)\n",
        "        \n",
        "    words = [None] + s.word\n",
        "    pos =[None]+ s.pos\n",
        "    state.stack.append('NULL')\n",
        "\n",
        "    while state.buffer:\n",
        "        \n",
        "        if not state.stack:\n",
        "            sequence.append((copy.deepcopy(state),(\"shift\",None)))\n",
        "            state.shift()\n",
        "            continue\n",
        "        \n",
        "        \n",
        "        last_word_stack = state.stack[-1]\n",
        "        last_word_buffer = state.buffer[-1]\n",
        "        \n",
        "        if last_word_stack=='NULL': stack_index = 0\n",
        "        else:\n",
        "          stack_index = s.word.index(last_word_stack)\n",
        "        buffer_index = s.word.index(last_word_buffer)\n",
        "        \n",
        "        if s.head[stack_index] == s.iden[buffer_index]:\n",
        "            childrens[s.iden[buffer_index]] -=1\n",
        "            sequence.append((copy.deepcopy(state),(\"L\",s.deprel[stack_index])))\n",
        "            state.left_arc(s.deprel[stack_index])\n",
        "        elif s.head[buffer_index] == s.iden[stack_index] and childrens[s.iden[buffer_index]] == 0:\n",
        "            childrens[s.iden[stack_index]] -=1\n",
        "            sequence.append((copy.deepcopy(state),(\"R\",s.deprel[buffer_index])))\n",
        "            state.right_arc(s.deprel[buffer_index])\n",
        "            \n",
        "        else:\n",
        "            sequence.append((copy.deepcopy(state),(\"shift\",None)))\n",
        "            state.shift()\n",
        "        \n",
        "    instances=select_2_features(state,word_dict, pos_dict)\n",
        "      \n",
        "    ins.append(instances)\n",
        "    seq.append(sequence)\n",
        "        \n",
        "            \n",
        "                \n",
        "    \n",
        "    "
      ],
      "id": "5f1878ca"
    },
    {
      "cell_type": "code",
      "execution_count": 102,
      "metadata": {
        "id": "6CqDiz8sRhf6"
      },
      "outputs": [],
      "source": [
        "s=[]\n",
        "labels = []\n",
        "for i in seq:\n",
        "  for j,k in i:\n",
        "    instu = select_2_features(j,word_dict, pos_dict)\n",
        "    labels.append(output_representations[k])\n",
        "    s.append(instu)"
      ],
      "id": "6CqDiz8sRhf6"
    },
    {
      "cell_type": "code",
      "source": [
        "import pandas as pd"
      ],
      "metadata": {
        "id": "85zdCSkuz_2N"
      },
      "id": "85zdCSkuz_2N",
      "execution_count": 97,
      "outputs": []
    },
    {
      "cell_type": "code",
      "source": [
        "train_inputs = pd.DataFrame(s, columns=['stack_1','stack_2','buffer_1','buffer_2'])\n",
        "train_outputs = pd.DataFrame(labels, columns=['Outputs'])"
      ],
      "metadata": {
        "id": "0GaLjYX1u83r"
      },
      "id": "0GaLjYX1u83r",
      "execution_count": 105,
      "outputs": []
    },
    {
      "cell_type": "code",
      "source": [
        "import torch.nn as nn"
      ],
      "metadata": {
        "id": "YS4Ju7cW6vp8"
      },
      "id": "YS4Ju7cW6vp8",
      "execution_count": 115,
      "outputs": []
    },
    {
      "cell_type": "code",
      "source": [
        "\\"
      ],
      "metadata": {
        "colab": {
          "base_uri": "https://localhost:8080/",
          "height": 181
        },
        "id": "ya7iBEHS6xf5",
        "outputId": "8aa73574-53c1-452a-935d-becb7d957153"
      },
      "id": "ya7iBEHS6xf5",
      "execution_count": 124,
      "outputs": [
        {
          "output_type": "error",
          "ename": "TypeError",
          "evalue": "ignored",
          "traceback": [
            "\u001b[0;31m---------------------------------------------------------------------------\u001b[0m",
            "\u001b[0;31mTypeError\u001b[0m                                 Traceback (most recent call last)",
            "\u001b[0;32m<ipython-input-124-cfc858e182cc>\u001b[0m in \u001b[0;36m<module>\u001b[0;34m\u001b[0m\n\u001b[0;32m----> 1\u001b[0;31m \u001b[0mprint\u001b[0m\u001b[0;34m(\u001b[0m\u001b[0mnn\u001b[0m\u001b[0;34m.\u001b[0m\u001b[0mEmbedding\u001b[0m\u001b[0;34m(\u001b[0m\u001b[0minput_dim\u001b[0m\u001b[0;34m=\u001b[0m\u001b[0mlen\u001b[0m\u001b[0;34m(\u001b[0m\u001b[0mword_dict\u001b[0m\u001b[0;34m)\u001b[0m\u001b[0;34m,\u001b[0m \u001b[0moutput_dim\u001b[0m\u001b[0;34m=\u001b[0m\u001b[0;36m32\u001b[0m\u001b[0;34m,\u001b[0m \u001b[0minput_length\u001b[0m\u001b[0;34m=\u001b[0m\u001b[0;36m4\u001b[0m\u001b[0;34m)\u001b[0m\u001b[0;34m)\u001b[0m\u001b[0;34m\u001b[0m\u001b[0;34m\u001b[0m\u001b[0m\n\u001b[0m\u001b[1;32m      2\u001b[0m \u001b[0mprint\u001b[0m\u001b[0;34m(\u001b[0m\u001b[0mnn\u001b[0m\u001b[0;34m.\u001b[0m\u001b[0mFlatten\u001b[0m\u001b[0;34m(\u001b[0m\u001b[0mtrain_inputs\u001b[0m\u001b[0;34m)\u001b[0m\u001b[0;34m)\u001b[0m\u001b[0;34m\u001b[0m\u001b[0;34m\u001b[0m\u001b[0m\n",
            "\u001b[0;31mTypeError\u001b[0m: __init__() got an unexpected keyword argument 'input_dim'"
          ]
        }
      ]
    },
    {
      "cell_type": "code",
      "execution_count": 114,
      "metadata": {
        "id": "W_5cREyuDNsh",
        "colab": {
          "base_uri": "https://localhost:8080/"
        },
        "outputId": "1c1ce81f-11c0-4202-89eb-349026f97eee"
      },
      "outputs": [
        {
          "output_type": "execute_result",
          "data": {
            "text/plain": [
              "array([  0,  88,  72,  31,  55,  29,  57,   4,  89,  87,  46,  26,  35,\n",
              "        12,  64,  86,  65,  92, 100,   5,  59,  17,  53,  93,  49,  67,\n",
              "        70,  78,  15,  94,  16,  63,  22,  98,  58,  66,  19,  30,   2,\n",
              "        95,  56,   1,  28,  80,  18,  32,  73,  23,  50,   3,  69,  81,\n",
              "        25,  96,  90,  68,  84,  36,  74,   8,  34,  91,  39,  99,  24,\n",
              "        82,  41,  76,  54,  79,  40,   7,  83,  43,  21,  33,  44,  27,\n",
              "         6,  61,  60,  77,  52,  11,  42,  47,  48,  51,  62])"
            ]
          },
          "metadata": {},
          "execution_count": 114
        }
      ],
      "source": [
        "train_outputs.Outputs.unique()"
      ],
      "id": "W_5cREyuDNsh"
    },
    {
      "cell_type": "code",
      "execution_count": null,
      "metadata": {
        "id": "Pa9g0svo08h6"
      },
      "outputs": [],
      "source": [
        "# state_output = []\n",
        "# for j,i in seq:\n",
        "  \n",
        "#     print(j.stack)\n",
        "#     # print(j.buffer)\n",
        "#     # print(j.dep)\n",
        "\n",
        "\n",
        "  \n",
        "\n"
      ],
      "id": "Pa9g0svo08h6"
    },
    {
      "cell_type": "code",
      "execution_count": null,
      "metadata": {
        "id": "7Sbvbp7SF7JO"
      },
      "outputs": [],
      "source": [
        "# state_output = []\n",
        "# for j,i in seq[1]:\n",
        "#     # print(j.stack)\n",
        "#     print(j.buffer)\n",
        "#     # print(j.dep)\n",
        "\n",
        "\n",
        "  \n",
        "\n"
      ],
      "id": "7Sbvbp7SF7JO"
    },
    {
      "cell_type": "code",
      "execution_count": null,
      "metadata": {
        "id": "W8J3G_QiF7qi"
      },
      "outputs": [],
      "source": [
        "# state_output = []\n",
        "# for j,i in seq[1]:\n",
        "#     print(j.dep)\n",
        "\n",
        "  \n",
        "\n"
      ],
      "id": "W8J3G_QiF7qi"
    },
    {
      "cell_type": "code",
      "execution_count": null,
      "metadata": {
        "id": "295f3ccf"
      },
      "outputs": [],
      "source": [
        "# k=1\n",
        "# for i in training_data:\n",
        "#   for j in range(len(i)):\n",
        "#     print(i[j]['form'],i[j]['deps'])\n",
        "#   if k==2:  break\n",
        "#   k=k+1\n"
      ],
      "id": "295f3ccf"
    },
    {
      "cell_type": "code",
      "execution_count": 126,
      "metadata": {
        "id": "12d2afb8"
      },
      "outputs": [],
      "source": [
        "from tensorflow import keras\n",
        "from tensorflow.keras import Sequential\n",
        "from tensorflow.keras.layers import Flatten, Embedding, Dense"
      ],
      "id": "12d2afb8"
    },
    {
      "cell_type": "code",
      "execution_count": 151,
      "metadata": {
        "id": "05399749"
      },
      "outputs": [],
      "source": [
        "def Depmodel(words, outputs):\n",
        "  \n",
        "  model = Sequential()\n",
        "  model.add(Embedding(words,32, input_length=4))\n",
        "  model.add(Flatten())\n",
        "  model.add(Dense(units=100, activation='relu'))\n",
        "  model.add(Dense(units=10, activation='relu'))\n",
        "  model.add(Dense(units=101, activation='softmax'))\n",
        "  model.compile(keras.optimizers.Adam(lr=0.01),loss='categorical_crossentropy')\n",
        "\n",
        "  return model"
      ],
      "id": "05399749"
    },
    {
      "cell_type": "code",
      "execution_count": 135,
      "metadata": {
        "id": "e2a51689"
      },
      "outputs": [],
      "source": [
        "# from tensorflow.python import train\n",
        "k = keras.utils.to_categorical(train_outputs, num_classes=101)"
      ],
      "id": "e2a51689"
    },
    {
      "cell_type": "code",
      "execution_count": 154,
      "metadata": {
        "id": "7a54c0f1",
        "colab": {
          "base_uri": "https://localhost:8080/"
        },
        "outputId": "0dac5d19-cdd6-4511-f2bf-c4baf7612c5e"
      },
      "outputs": [
        {
          "output_type": "stream",
          "name": "stderr",
          "text": [
            "/usr/local/lib/python3.8/dist-packages/keras/optimizers/optimizer_v2/adam.py:110: UserWarning: The `lr` argument is deprecated, use `learning_rate` instead.\n",
            "  super(Adam, self).__init__(name, **kwargs)\n"
          ]
        }
      ],
      "source": [
        "model = Depmodel(len(word_dict),len(train_outputs))"
      ],
      "id": "7a54c0f1"
    },
    {
      "cell_type": "code",
      "execution_count": 155,
      "metadata": {
        "id": "e490a5bd",
        "colab": {
          "base_uri": "https://localhost:8080/"
        },
        "outputId": "a383b7e8-d0ac-4bb2-8556-c7804b6a1188"
      },
      "outputs": [
        {
          "output_type": "stream",
          "name": "stdout",
          "text": [
            "Epoch 1/100\n",
            "352/352 [==============================] - 6s 14ms/step - loss: 1.1703\n",
            "Epoch 2/100\n",
            "352/352 [==============================] - 5s 15ms/step - loss: 0.6383\n",
            "Epoch 3/100\n",
            "352/352 [==============================] - 5s 15ms/step - loss: 0.5229\n",
            "Epoch 4/100\n",
            "352/352 [==============================] - 5s 14ms/step - loss: 0.4595\n",
            "Epoch 5/100\n",
            "352/352 [==============================] - 5s 15ms/step - loss: 0.4185\n",
            "Epoch 6/100\n",
            "352/352 [==============================] - 5s 14ms/step - loss: 0.3899\n",
            "Epoch 7/100\n",
            "352/352 [==============================] - 5s 15ms/step - loss: 0.3692\n",
            "Epoch 8/100\n",
            "352/352 [==============================] - 5s 14ms/step - loss: 0.3541\n",
            "Epoch 9/100\n",
            "352/352 [==============================] - 5s 14ms/step - loss: 0.3419\n",
            "Epoch 10/100\n",
            "352/352 [==============================] - 5s 15ms/step - loss: 0.3301\n",
            "Epoch 11/100\n",
            "352/352 [==============================] - 5s 15ms/step - loss: 0.3207\n",
            "Epoch 12/100\n",
            "352/352 [==============================] - 5s 14ms/step - loss: 0.3132\n",
            "Epoch 13/100\n",
            "352/352 [==============================] - 5s 14ms/step - loss: 0.3043\n",
            "Epoch 14/100\n",
            "352/352 [==============================] - 5s 14ms/step - loss: 0.2993\n",
            "Epoch 15/100\n",
            "352/352 [==============================] - 5s 14ms/step - loss: 0.2935\n",
            "Epoch 16/100\n",
            "352/352 [==============================] - 5s 14ms/step - loss: 0.2867\n",
            "Epoch 17/100\n",
            "352/352 [==============================] - 5s 14ms/step - loss: 0.2841\n",
            "Epoch 18/100\n",
            "352/352 [==============================] - 5s 14ms/step - loss: 0.2791\n",
            "Epoch 19/100\n",
            "352/352 [==============================] - 5s 14ms/step - loss: 0.2777\n",
            "Epoch 20/100\n",
            "352/352 [==============================] - 5s 15ms/step - loss: 0.2725\n",
            "Epoch 21/100\n",
            "352/352 [==============================] - 5s 15ms/step - loss: 0.2700\n",
            "Epoch 22/100\n",
            "352/352 [==============================] - 5s 15ms/step - loss: 0.2686\n",
            "Epoch 23/100\n",
            "352/352 [==============================] - 5s 14ms/step - loss: 0.2653\n",
            "Epoch 24/100\n",
            "352/352 [==============================] - 5s 14ms/step - loss: 0.2592\n",
            "Epoch 25/100\n",
            "352/352 [==============================] - 5s 14ms/step - loss: 0.2583\n",
            "Epoch 26/100\n",
            "352/352 [==============================] - 5s 15ms/step - loss: 0.2566\n",
            "Epoch 27/100\n",
            "352/352 [==============================] - 5s 15ms/step - loss: 0.2551\n",
            "Epoch 28/100\n",
            "352/352 [==============================] - 5s 15ms/step - loss: 0.2527\n",
            "Epoch 29/100\n",
            "352/352 [==============================] - 5s 14ms/step - loss: 0.2471\n",
            "Epoch 30/100\n",
            "352/352 [==============================] - 5s 14ms/step - loss: 0.2481\n",
            "Epoch 31/100\n",
            "352/352 [==============================] - 5s 14ms/step - loss: 0.2467\n",
            "Epoch 32/100\n",
            "352/352 [==============================] - 5s 14ms/step - loss: 0.2447\n",
            "Epoch 33/100\n",
            "352/352 [==============================] - 5s 14ms/step - loss: 0.2420\n",
            "Epoch 34/100\n",
            "352/352 [==============================] - 5s 15ms/step - loss: 0.2426\n",
            "Epoch 35/100\n",
            "352/352 [==============================] - 5s 15ms/step - loss: 0.2394\n",
            "Epoch 36/100\n",
            "352/352 [==============================] - 5s 15ms/step - loss: 0.2391\n",
            "Epoch 37/100\n",
            "352/352 [==============================] - 5s 15ms/step - loss: 0.2357\n",
            "Epoch 38/100\n",
            "352/352 [==============================] - 5s 15ms/step - loss: 0.2362\n",
            "Epoch 39/100\n",
            "352/352 [==============================] - 5s 15ms/step - loss: 0.2332\n",
            "Epoch 40/100\n",
            "352/352 [==============================] - 5s 15ms/step - loss: 0.2289\n",
            "Epoch 41/100\n",
            "352/352 [==============================] - 5s 15ms/step - loss: 0.2291\n",
            "Epoch 42/100\n",
            "352/352 [==============================] - 5s 15ms/step - loss: 0.2329\n",
            "Epoch 43/100\n",
            "352/352 [==============================] - 5s 15ms/step - loss: 0.2336\n",
            "Epoch 44/100\n",
            "352/352 [==============================] - 5s 15ms/step - loss: 0.2289\n",
            "Epoch 45/100\n",
            "352/352 [==============================] - 5s 15ms/step - loss: 0.2283\n",
            "Epoch 46/100\n",
            "352/352 [==============================] - 5s 15ms/step - loss: 0.2285\n",
            "Epoch 47/100\n",
            "352/352 [==============================] - 5s 15ms/step - loss: 0.2242\n",
            "Epoch 48/100\n",
            "352/352 [==============================] - 8s 22ms/step - loss: 0.2236\n",
            "Epoch 49/100\n",
            "352/352 [==============================] - 5s 15ms/step - loss: 0.2247\n",
            "Epoch 50/100\n",
            "352/352 [==============================] - 5s 15ms/step - loss: 0.2217\n",
            "Epoch 51/100\n",
            "352/352 [==============================] - 5s 15ms/step - loss: 0.2229\n",
            "Epoch 52/100\n",
            "352/352 [==============================] - 5s 15ms/step - loss: 0.2214\n",
            "Epoch 53/100\n",
            "352/352 [==============================] - 6s 16ms/step - loss: 0.2228\n",
            "Epoch 54/100\n",
            "352/352 [==============================] - 5s 15ms/step - loss: 0.2204\n",
            "Epoch 55/100\n",
            "352/352 [==============================] - 5s 15ms/step - loss: 0.2213\n",
            "Epoch 56/100\n",
            "352/352 [==============================] - 5s 16ms/step - loss: 0.2179\n",
            "Epoch 57/100\n",
            "352/352 [==============================] - 6s 16ms/step - loss: 0.2192\n",
            "Epoch 58/100\n",
            "352/352 [==============================] - 5s 15ms/step - loss: 0.2191\n",
            "Epoch 59/100\n",
            "352/352 [==============================] - 6s 16ms/step - loss: 0.2173\n",
            "Epoch 60/100\n",
            "352/352 [==============================] - 5s 15ms/step - loss: 0.2180\n",
            "Epoch 61/100\n",
            "352/352 [==============================] - 5s 15ms/step - loss: 0.2147\n",
            "Epoch 62/100\n",
            "352/352 [==============================] - 5s 15ms/step - loss: 0.2156\n",
            "Epoch 63/100\n",
            "352/352 [==============================] - 5s 15ms/step - loss: 0.2119\n",
            "Epoch 64/100\n",
            "352/352 [==============================] - 5s 15ms/step - loss: 0.2168\n",
            "Epoch 65/100\n",
            "352/352 [==============================] - 5s 15ms/step - loss: 0.2142\n",
            "Epoch 66/100\n",
            "352/352 [==============================] - 5s 15ms/step - loss: 0.2116\n",
            "Epoch 67/100\n",
            "352/352 [==============================] - 5s 15ms/step - loss: 0.2163\n",
            "Epoch 68/100\n",
            "352/352 [==============================] - 5s 15ms/step - loss: 0.2106\n",
            "Epoch 69/100\n",
            "352/352 [==============================] - 5s 15ms/step - loss: 0.2090\n",
            "Epoch 70/100\n",
            "352/352 [==============================] - 5s 15ms/step - loss: 0.2066\n",
            "Epoch 71/100\n",
            "352/352 [==============================] - 5s 14ms/step - loss: 0.2102\n",
            "Epoch 72/100\n",
            "352/352 [==============================] - 5s 14ms/step - loss: 0.2097\n",
            "Epoch 73/100\n",
            "352/352 [==============================] - 5s 15ms/step - loss: 0.2115\n",
            "Epoch 74/100\n",
            "352/352 [==============================] - 5s 15ms/step - loss: 0.2159\n",
            "Epoch 75/100\n",
            "352/352 [==============================] - 5s 15ms/step - loss: 0.2100\n",
            "Epoch 76/100\n",
            "352/352 [==============================] - 5s 15ms/step - loss: 0.2084\n",
            "Epoch 77/100\n",
            "352/352 [==============================] - 5s 14ms/step - loss: 0.2066\n",
            "Epoch 78/100\n",
            "352/352 [==============================] - 5s 15ms/step - loss: 0.2085\n",
            "Epoch 79/100\n",
            "352/352 [==============================] - 5s 15ms/step - loss: 0.2072\n",
            "Epoch 80/100\n",
            "352/352 [==============================] - 5s 15ms/step - loss: 0.2101\n",
            "Epoch 81/100\n",
            "352/352 [==============================] - 5s 14ms/step - loss: 0.2030\n",
            "Epoch 82/100\n",
            "352/352 [==============================] - 5s 14ms/step - loss: 0.2037\n",
            "Epoch 83/100\n",
            "352/352 [==============================] - 5s 14ms/step - loss: 0.2068\n",
            "Epoch 84/100\n",
            "352/352 [==============================] - 5s 14ms/step - loss: 0.2069\n",
            "Epoch 85/100\n",
            "352/352 [==============================] - 5s 15ms/step - loss: 0.2054\n",
            "Epoch 86/100\n",
            "352/352 [==============================] - 5s 15ms/step - loss: 0.2013\n",
            "Epoch 87/100\n",
            "352/352 [==============================] - 5s 15ms/step - loss: 0.2032\n",
            "Epoch 88/100\n",
            "352/352 [==============================] - 5s 15ms/step - loss: 0.2013\n",
            "Epoch 89/100\n",
            "352/352 [==============================] - 5s 15ms/step - loss: 0.2071\n",
            "Epoch 90/100\n",
            "352/352 [==============================] - 5s 14ms/step - loss: 0.2038\n",
            "Epoch 91/100\n",
            "352/352 [==============================] - 5s 14ms/step - loss: 0.2008\n",
            "Epoch 92/100\n",
            "352/352 [==============================] - 5s 14ms/step - loss: 0.2079\n",
            "Epoch 93/100\n",
            "352/352 [==============================] - 5s 14ms/step - loss: 0.2030\n",
            "Epoch 94/100\n",
            "352/352 [==============================] - 5s 14ms/step - loss: 0.2007\n",
            "Epoch 95/100\n",
            "352/352 [==============================] - 5s 15ms/step - loss: 0.2054\n",
            "Epoch 96/100\n",
            "352/352 [==============================] - 5s 15ms/step - loss: 0.2027\n",
            "Epoch 97/100\n",
            "352/352 [==============================] - 5s 15ms/step - loss: 0.1989\n",
            "Epoch 98/100\n",
            "352/352 [==============================] - 5s 15ms/step - loss: 0.1996\n",
            "Epoch 99/100\n",
            "352/352 [==============================] - 5s 15ms/step - loss: 0.2019\n",
            "Epoch 100/100\n",
            "352/352 [==============================] - 5s 15ms/step - loss: 0.2022\n"
          ]
        },
        {
          "output_type": "execute_result",
          "data": {
            "text/plain": [
              "<keras.callbacks.History at 0x7f3033531b80>"
            ]
          },
          "metadata": {},
          "execution_count": 155
        }
      ],
      "source": [
        "model.fit(train_inputs, k, epochs=100, batch_size=1000)"
      ],
      "id": "e490a5bd"
    },
    {
      "cell_type": "code",
      "execution_count": 158,
      "metadata": {
        "id": "01320742"
      },
      "outputs": [],
      "source": [
        "model.save('/content/drive/MyDrive/Assessment/KerasModel')\n"
      ],
      "id": "01320742"
    },
    {
      "cell_type": "code",
      "source": [
        "from google.colab import drive\n",
        "drive.mount('/content/drive')"
      ],
      "metadata": {
        "colab": {
          "base_uri": "https://localhost:8080/"
        },
        "id": "NoEE0LXkJ30k",
        "outputId": "61767640-e097-4128-8b2f-161c1ea86c9e"
      },
      "id": "NoEE0LXkJ30k",
      "execution_count": 156,
      "outputs": [
        {
          "output_type": "stream",
          "name": "stdout",
          "text": [
            "Mounted at /content/drive\n"
          ]
        }
      ]
    },
    {
      "cell_type": "code",
      "execution_count": null,
      "metadata": {
        "id": "545b9da0"
      },
      "outputs": [],
      "source": [],
      "id": "545b9da0"
    },
    {
      "cell_type": "code",
      "execution_count": null,
      "metadata": {
        "id": "b14429d5"
      },
      "outputs": [],
      "source": [],
      "id": "b14429d5"
    },
    {
      "cell_type": "code",
      "execution_count": null,
      "metadata": {
        "id": "a7e511e7"
      },
      "outputs": [],
      "source": [],
      "id": "a7e511e7"
    },
    {
      "cell_type": "code",
      "execution_count": null,
      "metadata": {
        "id": "8bfd2a2a"
      },
      "outputs": [],
      "source": [],
      "id": "8bfd2a2a"
    },
    {
      "cell_type": "code",
      "execution_count": null,
      "metadata": {
        "id": "e447906c"
      },
      "outputs": [],
      "source": [],
      "id": "e447906c"
    },
    {
      "cell_type": "code",
      "execution_count": null,
      "metadata": {
        "id": "d7018641"
      },
      "outputs": [],
      "source": [],
      "id": "d7018641"
    },
    {
      "cell_type": "code",
      "execution_count": null,
      "metadata": {
        "id": "ab1dc748"
      },
      "outputs": [],
      "source": [],
      "id": "ab1dc748"
    },
    {
      "cell_type": "code",
      "execution_count": null,
      "metadata": {
        "id": "e19d8fa7"
      },
      "outputs": [],
      "source": [],
      "id": "e19d8fa7"
    },
    {
      "cell_type": "code",
      "execution_count": null,
      "metadata": {
        "id": "8c628777"
      },
      "outputs": [],
      "source": [],
      "id": "8c628777"
    },
    {
      "cell_type": "code",
      "execution_count": null,
      "metadata": {
        "id": "003a82b2"
      },
      "outputs": [],
      "source": [],
      "id": "003a82b2"
    },
    {
      "cell_type": "code",
      "execution_count": null,
      "metadata": {
        "id": "cbfc3b16"
      },
      "outputs": [],
      "source": [],
      "id": "cbfc3b16"
    },
    {
      "cell_type": "code",
      "execution_count": null,
      "metadata": {
        "id": "46f382a4"
      },
      "outputs": [],
      "source": [
        "def dependencies(training_data,lines):\n",
        "    dependency_relations = {}\n",
        "    root = None\n",
        "    childrens = defaultdict(list)\n",
        "    \n",
        "    for i in range(len(training_data)):\n",
        "        dependency_relations\n",
        "        \n",
        "    "
      ],
      "id": "46f382a4"
    },
    {
      "cell_type": "code",
      "execution_count": null,
      "metadata": {
        "id": "3c19b807"
      },
      "outputs": [],
      "source": [
        "class dependency_graph():\n",
        "    def __init__(self, training_data):\n",
        "        self.dependency_relations = {}\n",
        "        self.root = None\n",
        "        self.childrens = defaultdict(list)\n",
        "        self.training_data = training_data\n",
        "        \n",
        "    def add_relation(training_data):\n",
        "        for a,b,c,d,e in training_data:\n",
        "            self.dependency_relations[a] = e\n",
        "            self.childrens[d].append(a)\n",
        "            if d==0: self.root = a\n",
        "                \n",
        "    def print_tree(self, parent=None):\n",
        "        if not parent: return self.print_tree(parent=self.root)\n",
        "        children = [self.print_tree(child) for child in self.childrens[parent]]\n",
        "        child_str = \" \".join(children)\n",
        "        return \"({} {})\".format(self.dependency_relations[parent],child_str)  \n",
        "            \n",
        "    \n",
        "        "
      ],
      "id": "3c19b807"
    },
    {
      "cell_type": "code",
      "execution_count": null,
      "metadata": {
        "id": "8fe56b6a"
      },
      "outputs": [],
      "source": [
        "with open('Modified_conllu.txt','r') as m:\n",
        "    lines = m.readlines()\n",
        "    \n",
        "    for line in lines:\n",
        "        q = line.strip('\\n').split(\" \")\n",
        "        print(q)\n",
        "        dependency = dependency_graph(q)\n",
        "#         print(dependency)\n",
        "        dependency.add_relation()\n",
        "        dependency.print_tree()\n",
        "    "
      ],
      "id": "8fe56b6a"
    },
    {
      "cell_type": "code",
      "execution_count": null,
      "metadata": {
        "id": "5c287168"
      },
      "outputs": [],
      "source": [
        "def add_relation(training_data):\n",
        "    print(training_data)\n",
        "    for a in range(len(training_data)):\n",
        "        print(a+1)\n",
        "        self.dependency_relations[a] = e\n",
        "        self.childrens[d].append(a)\n",
        "        if d==0: self.root = a\n",
        "            \n",
        "for line in lines:\n",
        "        q = line.strip('\\n').split(\" \")\n",
        "#         print(q)\n",
        "#         print(dependency)\n",
        "        add_relation(q)"
      ],
      "id": "5c287168"
    },
    {
      "cell_type": "code",
      "execution_count": null,
      "metadata": {
        "id": "a37b96ed",
        "scrolled": true
      },
      "outputs": [],
      "source": [
        "lines[1].strip('\\n').split(\" \")"
      ],
      "id": "a37b96ed"
    },
    {
      "cell_type": "code",
      "execution_count": null,
      "metadata": {
        "id": "83ea5334"
      },
      "outputs": [],
      "source": [
        "def get_vocab_list(data_file):\n",
        "    words,pos = [],[]\n",
        "    "
      ],
      "id": "83ea5334"
    }
  ],
  "metadata": {
    "colab": {
      "provenance": []
    },
    "kernelspec": {
      "display_name": "Python 3 (ipykernel)",
      "language": "python",
      "name": "python3"
    },
    "language_info": {
      "codemirror_mode": {
        "name": "ipython",
        "version": 3
      },
      "file_extension": ".py",
      "mimetype": "text/x-python",
      "name": "python",
      "nbconvert_exporter": "python",
      "pygments_lexer": "ipython3",
      "version": "3.9.7"
    }
  },
  "nbformat": 4,
  "nbformat_minor": 5
}