{
 "cells": [
  {
   "cell_type": "code",
   "execution_count": 1,
   "id": "d3345d3d",
   "metadata": {},
   "outputs": [],
   "source": [
    "import conllu"
   ]
  },
  {
   "cell_type": "code",
   "execution_count": 104,
   "id": "fd3def2a",
   "metadata": {},
   "outputs": [],
   "source": [
    "train = '/Users/vinaykota/Documents/AssessmentNLP/UD_English-EWT/en_ewt-ud-train.conllu'\n",
    "dev = '/Users/vinaykota/Documents/AssessmentNLP/UD_English-EWT/en_ewt-ud-dev.conllu'"
   ]
  },
  {
   "cell_type": "code",
   "execution_count": 16,
   "id": "2e4d87ab",
   "metadata": {},
   "outputs": [],
   "source": [
    "with open('/Users/vinaykota/Documents/AssessmentNLP/UD_English-EWT/en_ewt-ud-train.conllu','r') as r:\n",
    "    Train_set = [a for a in conllu.parse_incr(r)]       "
   ]
  },
  {
   "cell_type": "code",
   "execution_count": 105,
   "id": "ed13b761",
   "metadata": {},
   "outputs": [],
   "source": [
    "with open('/Users/vinaykota/Documents/AssessmentNLP/UD_English-EWT/en_ewt-ud-dev.conllu','r') as r:\n",
    "    dev_set = [a for a in conllu.parse_incr(r)]\n",
    "    "
   ]
  },
  {
   "cell_type": "code",
   "execution_count": 79,
   "id": "fe9372cf",
   "metadata": {},
   "outputs": [],
   "source": [
    "# vocab_count = 0\n",
    "# pos_count = 0\n",
    "# label_count = 0\n",
    "\n",
    "# everything = {'word': [],\n",
    "#              'pos': [],\n",
    "#              'label': []}\n",
    "\n",
    "# vocab = []\n",
    "\n",
    "# unique_pos = []\n",
    "\n",
    "# unique_labels = []\n"
   ]
  },
  {
   "cell_type": "code",
   "execution_count": 117,
   "id": "0d845161",
   "metadata": {},
   "outputs": [],
   "source": [
    "def get_dictionary_items(Train_set):\n",
    "\n",
    "    everything = {'word': [],\n",
    "                             'pos': [],\n",
    "                                        'label': []}\n",
    "\n",
    "    vocab, unique_pos, unique_labels = [],[],[]\n",
    "\n",
    "#     unique_pos = []\n",
    "\n",
    "#     unique_labels = []\n",
    "       \n",
    "    \n",
    "    for i in range(len(Train_set)):\n",
    "        temp1 = []\n",
    "        temp2 = []\n",
    "        temp3 = []\n",
    "        for j in range(len(Train_set[i])):\n",
    "            temp1.append(Train_set[i][j]['form'])\n",
    "            temp2.append(Train_set[i][j]['upos'])\n",
    "            temp3.append(Train_set[i][j]['xpos'])\n",
    "        \n",
    "            vocab.append(Train_set[i][j]['form'])        \n",
    "            unique_pos.append(Train_set[i][j]['upos'])\n",
    "            unique_labels.append(Train_set[i][j]['xpos'])\n",
    "    \n",
    "        everything['word'].append(temp1)\n",
    "        everything['pos'].append(temp2)\n",
    "        everything['label'].append(temp3)\n",
    "        \n",
    "    vocab=set(vocab)\n",
    "    unique_pos=set(unique_pos)\n",
    "    unique_labels=set(unique_labels)\n",
    "        \n",
    "        \n",
    "    \n",
    "    return everything,vocab,unique_pos,unique_labels\n",
    "    \n",
    "    \n",
    "    \n",
    "    "
   ]
  },
  {
   "cell_type": "code",
   "execution_count": 119,
   "id": "f0ce46d2",
   "metadata": {},
   "outputs": [],
   "source": [
    "dictionary, words, pos, labels = get_dictionary_items(dev_set)"
   ]
  },
  {
   "cell_type": "code",
   "execution_count": 120,
   "id": "92b0e484",
   "metadata": {},
   "outputs": [
    {
     "data": {
      "text/plain": [
       "(['President',\n",
       "  'Bush',\n",
       "  'on',\n",
       "  'Tuesday',\n",
       "  'nominated',\n",
       "  'two',\n",
       "  'individuals',\n",
       "  'to',\n",
       "  'replace',\n",
       "  'retiring',\n",
       "  'jurists',\n",
       "  'on',\n",
       "  'federal',\n",
       "  'courts',\n",
       "  'in',\n",
       "  'the',\n",
       "  'Washington',\n",
       "  'area',\n",
       "  '.'],\n",
       " ['NNP',\n",
       "  'NNP',\n",
       "  'IN',\n",
       "  'NNP',\n",
       "  'VBD',\n",
       "  'CD',\n",
       "  'NNS',\n",
       "  'TO',\n",
       "  'VB',\n",
       "  'VBG',\n",
       "  'NNS',\n",
       "  'IN',\n",
       "  'JJ',\n",
       "  'NNS',\n",
       "  'IN',\n",
       "  'DT',\n",
       "  'NNP',\n",
       "  'NN',\n",
       "  '.'])"
      ]
     },
     "execution_count": 120,
     "metadata": {},
     "output_type": "execute_result"
    }
   ],
   "source": [
    "dictionary['word'][1], dictionary['label'][1]"
   ]
  },
  {
   "cell_type": "code",
   "execution_count": 121,
   "id": "eb0e1d0c",
   "metadata": {},
   "outputs": [
    {
     "data": {
      "text/plain": [
       "{'$',\n",
       " \"''\",\n",
       " ',',\n",
       " '-LRB-',\n",
       " '-RRB-',\n",
       " '.',\n",
       " ':',\n",
       " 'ADD',\n",
       " 'AFX',\n",
       " 'CC',\n",
       " 'CD',\n",
       " 'DT',\n",
       " 'EX',\n",
       " 'FW',\n",
       " 'GW',\n",
       " 'HYPH',\n",
       " 'IN',\n",
       " 'JJ',\n",
       " 'JJR',\n",
       " 'JJS',\n",
       " 'LS',\n",
       " 'MD',\n",
       " 'NFP',\n",
       " 'NN',\n",
       " 'NNP',\n",
       " 'NNPS',\n",
       " 'NNS',\n",
       " 'PDT',\n",
       " 'POS',\n",
       " 'PRP',\n",
       " 'PRP$',\n",
       " 'RB',\n",
       " 'RBR',\n",
       " 'RBS',\n",
       " 'RP',\n",
       " 'SYM',\n",
       " 'TO',\n",
       " 'UH',\n",
       " 'VB',\n",
       " 'VBD',\n",
       " 'VBG',\n",
       " 'VBN',\n",
       " 'VBP',\n",
       " 'VBZ',\n",
       " 'WDT',\n",
       " 'WP',\n",
       " 'WP$',\n",
       " 'WRB',\n",
       " 'XX',\n",
       " '``'}"
      ]
     },
     "execution_count": 121,
     "metadata": {},
     "output_type": "execute_result"
    }
   ],
   "source": [
    "labels"
   ]
  },
  {
   "cell_type": "code",
   "execution_count": 126,
   "id": "6f370d13",
   "metadata": {},
   "outputs": [
    {
     "name": "stdout",
     "output_type": "stream",
     "text": [
      "Requirement already satisfied: torch in /Users/vinaykota/opt/anaconda3/lib/python3.9/site-packages (1.12.1)\n",
      "Requirement already satisfied: typing_extensions in /Users/vinaykota/opt/anaconda3/lib/python3.9/site-packages (from torch) (3.10.0.2)\n",
      "Note: you may need to restart the kernel to use updated packages.\n"
     ]
    }
   ],
   "source": []
  },
  {
   "cell_type": "code",
   "execution_count": null,
   "id": "c078bdfc",
   "metadata": {},
   "outputs": [],
   "source": []
  }
 ],
 "metadata": {
  "kernelspec": {
   "display_name": "Python 3 (ipykernel)",
   "language": "python",
   "name": "python3"
  },
  "language_info": {
   "codemirror_mode": {
    "name": "ipython",
    "version": 3
   },
   "file_extension": ".py",
   "mimetype": "text/x-python",
   "name": "python",
   "nbconvert_exporter": "python",
   "pygments_lexer": "ipython3",
   "version": "3.9.7"
  }
 },
 "nbformat": 4,
 "nbformat_minor": 5
}
