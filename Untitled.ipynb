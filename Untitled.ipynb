{
  "cells": [
    {
      "cell_type": "code",
      "execution_count": null,
      "id": "d3345d3d",
      "metadata": {
        "id": "d3345d3d"
      },
      "outputs": [],
      "source": [
        "!pip install conllu\n",
        "\n",
        "import conllu"
      ]
    },
    {
      "cell_type": "code",
      "source": [
        "!wget \"https://www.csee.umbc.edu/courses/undergraduate/473/f22/materials/a1/data/UD_English-EWT/en_ewt-ud-train.conllu\"\n",
        "!wget \"https://www.csee.umbc.edu/courses/undergraduate/473/f22/materials/a1/data/UD_English-EWT/en_ewt-ud-dev.conllu\"\n",
        "!wget \"https://www.csee.umbc.edu/courses/undergraduate/473/f22/materials/a1/data/UD_English-EWT/en_ewt-ud-test.conllu\"\n",
        "\n",
        "\n",
        "\n",
        "#downloading the required conllu files i.e. The train, dev, test splits"
      ],
      "metadata": {
        "id": "86sOBmLKUCpV"
      },
      "id": "86sOBmLKUCpV",
      "execution_count": null,
      "outputs": []
    },
    {
      "cell_type": "code",
      "execution_count": 3,
      "id": "2e4d87ab",
      "metadata": {
        "id": "2e4d87ab"
      },
      "outputs": [],
      "source": [
        "with open('en_ewt-ud-train.conllu','r') as r:\n",
        "    Train_set = [a for a in conllu.parse_incr(r)]       "
      ]
    },
    {
      "cell_type": "code",
      "execution_count": 4,
      "id": "ed13b761",
      "metadata": {
        "id": "ed13b761"
      },
      "outputs": [],
      "source": [
        "with open('en_ewt-ud-dev.conllu','r') as r:\n",
        "    dev_set = [a for a in conllu.parse_incr(r)]\n",
        "    "
      ]
    },
    {
      "cell_type": "code",
      "execution_count": null,
      "id": "fe9372cf",
      "metadata": {
        "id": "fe9372cf"
      },
      "outputs": [],
      "source": [
        "# vocab_count = 0\n",
        "# pos_count = 0\n",
        "# label_count = 0\n",
        "\n",
        "# everything = {'word': [],\n",
        "#              'pos': [],\n",
        "#              'label': []}\n",
        "\n",
        "# vocab = []\n",
        "\n",
        "# unique_pos = []\n",
        "\n",
        "# unique_labels = []\n"
      ]
    },
    {
      "cell_type": "code",
      "execution_count": 5,
      "id": "0d845161",
      "metadata": {
        "id": "0d845161"
      },
      "outputs": [],
      "source": [
        "def get_dictionary_items(Train_set):\n",
        "\n",
        "    everything = {'word': [],\n",
        "                             'pos': [],\n",
        "                                        'label': []}\n",
        "\n",
        "    vocab, unique_pos, unique_labels = [],[],[]\n",
        "\n",
        "#     unique_pos = []\n",
        "\n",
        "#     unique_labels = []\n",
        "       \n",
        "    \n",
        "    for i in range(len(Train_set)):\n",
        "        temp1 = []\n",
        "        temp2 = []\n",
        "        temp3 = []\n",
        "        for j in range(len(Train_set[i])):\n",
        "            temp1.append(Train_set[i][j]['form'])\n",
        "            temp2.append(Train_set[i][j]['upos'])\n",
        "            temp3.append(Train_set[i][j]['xpos'])\n",
        "        \n",
        "            vocab.append(Train_set[i][j]['form'])        \n",
        "            unique_pos.append(Train_set[i][j]['upos'])\n",
        "            unique_labels.append(Train_set[i][j]['xpos'])\n",
        "    \n",
        "        everything['word'].append(temp1)\n",
        "        everything['pos'].append(temp2)\n",
        "        everything['label'].append(temp3)\n",
        "        \n",
        "    vocab=set(vocab)\n",
        "    unique_pos=set(unique_pos)\n",
        "    unique_labels=set(unique_labels)\n",
        "        \n",
        "        \n",
        "    \n",
        "    return everything,vocab,unique_pos,unique_labels\n",
        "    \n",
        "    \n",
        "    \n",
        "    "
      ]
    },
    {
      "cell_type": "code",
      "execution_count": 6,
      "id": "f0ce46d2",
      "metadata": {
        "id": "f0ce46d2"
      },
      "outputs": [],
      "source": [
        "dictionary, words, pos, labels = get_dictionary_items(Train_set)"
      ]
    },
    {
      "cell_type": "code",
      "execution_count": 7,
      "id": "92b0e484",
      "metadata": {
        "id": "92b0e484"
      },
      "outputs": [],
      "source": [
        "import torch\n",
        "import torch.nn as nn"
      ]
    },
    {
      "cell_type": "code",
      "execution_count": 8,
      "id": "c078bdfc",
      "metadata": {
        "id": "c078bdfc"
      },
      "outputs": [],
      "source": [
        "class parsing:\n",
        "\n",
        "  def __init__(self,sentence):\n",
        "\n",
        "    self.sentence=sentence\n",
        "\n",
        "    self.stack = ['Root']\n",
        "\n",
        "    self.buffer = [sentence.split(\"\")]\n",
        "\n",
        "    self.dependencies = []\n",
        "\n",
        "\n",
        "  def shift_LA_RA(self, transistion):\n",
        "\n",
        "    if transistion == 'S':\n",
        "\n",
        "      self.stack.append(self.buffer.pop())\n",
        "\n",
        "    elif transistion == 'L':\n",
        "\n",
        "      stack_left = self.stack.pop(-2)\n",
        "\n",
        "      self.dependencies.append((self.stack.pop(-1),stack_left))\n",
        "\n",
        "    else:\n",
        "\n",
        "      stack_right = self.stack.pop()\n",
        "\n",
        "      self.dependencies.append((self.stack(-1),stack_right))\n",
        "\n",
        "\n",
        "    def apply(self, operation):\n",
        "\n",
        "      for o in operation:\n",
        "\n",
        "        self.shift_LA_RA(o)\n",
        "\n",
        "      return self.dependencies \n"
      ]
    },
    {
      "cell_type": "code",
      "source": [
        "\n",
        "\n"
      ],
      "metadata": {
        "id": "ni7lvlzLVDpc"
      },
      "id": "ni7lvlzLVDpc",
      "execution_count": null,
      "outputs": []
    }
  ],
  "metadata": {
    "kernelspec": {
      "display_name": "Python 3 (ipykernel)",
      "language": "python",
      "name": "python3"
    },
    "language_info": {
      "codemirror_mode": {
        "name": "ipython",
        "version": 3
      },
      "file_extension": ".py",
      "mimetype": "text/x-python",
      "name": "python",
      "nbconvert_exporter": "python",
      "pygments_lexer": "ipython3",
      "version": "3.9.7"
    },
    "colab": {
      "provenance": []
    }
  },
  "nbformat": 4,
  "nbformat_minor": 5
}